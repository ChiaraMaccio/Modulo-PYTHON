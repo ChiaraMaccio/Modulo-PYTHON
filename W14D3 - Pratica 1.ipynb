{
 "cells": [
  {
   "cell_type": "code",
   "execution_count": 1,
   "id": "4e9df307-98fe-4679-8a55-e2ba44de9a4a",
   "metadata": {},
   "outputs": [],
   "source": [
    "mat = [[0, 1, 2, 3, 4], [5, 6, 7, 8, 9], [10, 11, 12, 13, 14]]"
   ]
  },
  {
   "cell_type": "code",
   "execution_count": 2,
   "id": "512ba990-ce65-4340-92cc-547ce111d29a",
   "metadata": {},
   "outputs": [],
   "source": [
    "import math"
   ]
  },
  {
   "cell_type": "code",
   "execution_count": 3,
   "id": "15e2f973-b55e-42ec-a072-75510573ae55",
   "metadata": {},
   "outputs": [
    {
     "data": {
      "text/plain": [
       "0.6569865987187891"
      ]
     },
     "execution_count": 3,
     "metadata": {},
     "output_type": "execute_result"
    }
   ],
   "source": [
    "math.sin(mat[1][2])\n"
   ]
  },
  {
   "cell_type": "code",
   "execution_count": 4,
   "id": "6097a928-1195-4fb7-b165-863ec4f18e83",
   "metadata": {},
   "outputs": [
    {
     "data": {
      "text/plain": [
       "-0.9899924966004454"
      ]
     },
     "execution_count": 4,
     "metadata": {},
     "output_type": "execute_result"
    }
   ],
   "source": [
    "math.cos(mat[0][3])"
   ]
  },
  {
   "cell_type": "code",
   "execution_count": 5,
   "id": "148a0175-b749-4985-afce-39e5e684fb79",
   "metadata": {},
   "outputs": [
    {
     "data": {
      "text/plain": [
       "3628800"
      ]
     },
     "execution_count": 5,
     "metadata": {},
     "output_type": "execute_result"
    }
   ],
   "source": [
    "math.factorial(mat[2][0])"
   ]
  },
  {
   "cell_type": "code",
   "execution_count": 6,
   "id": "e85fb783-2c11-4e9f-8e9b-9ab9be3c304a",
   "metadata": {},
   "outputs": [
    {
     "data": {
      "text/plain": [
       "180.0"
      ]
     },
     "execution_count": 6,
     "metadata": {},
     "output_type": "execute_result"
    }
   ],
   "source": [
    "math.degrees(math.pi)\n"
   ]
  },
  {
   "cell_type": "code",
   "execution_count": 7,
   "id": "d0d97bda-3026-447d-a4a1-ee1497b197e2",
   "metadata": {},
   "outputs": [
    {
     "name": "stdout",
     "output_type": "stream",
     "text": [
      "Help on built-in function degrees in module math:\n",
      "\n",
      "degrees(x, /)\n",
      "    Convert angle x from radians to degrees.\n",
      "\n"
     ]
    }
   ],
   "source": [
    "help(math.degrees)"
   ]
  },
  {
   "cell_type": "code",
   "execution_count": 8,
   "id": "c714eef5-dfe7-4a04-b2ec-ad13decdfd2b",
   "metadata": {},
   "outputs": [],
   "source": [
    "lst = [2000, 5500, 7200, 4320, 1280, 1900, 2500, 3900, 6410, 8150, 7100, 5350]"
   ]
  },
  {
   "cell_type": "code",
   "execution_count": 9,
   "id": "62edeb18-43dd-49d4-8a09-e265a91a4fe2",
   "metadata": {},
   "outputs": [],
   "source": [
    "import numpy as np"
   ]
  },
  {
   "cell_type": "code",
   "execution_count": 10,
   "id": "484517ca-b317-4a85-bcb2-caaa10317530",
   "metadata": {},
   "outputs": [
    {
     "data": {
      "text/plain": [
       "array([2000, 5500, 7200, 4320, 1280, 1900, 2500, 3900, 6410, 8150, 7100,\n",
       "       5350])"
      ]
     },
     "execution_count": 10,
     "metadata": {},
     "output_type": "execute_result"
    }
   ],
   "source": [
    "np_lst=np.array(lst)\n",
    "np_lst"
   ]
  },
  {
   "cell_type": "code",
   "execution_count": 11,
   "id": "d9bf65de-d094-47f3-8ee6-b1a974748461",
   "metadata": {
    "scrolled": true
   },
   "outputs": [
    {
     "name": "stdout",
     "output_type": "stream",
     "text": [
      "vendita massima mensile è stata nel mese di Ottobre: 8150\n",
      "vendita minima mensile è stata nel mese di Maggio: 1280\n"
     ]
    }
   ],
   "source": [
    "#qual è stata la vendita massima mensile? E quella minima?\n",
    "print('vendita massima mensile è stata nel mese di Ottobre:', np.max(np_lst))\n",
    "print('vendita minima mensile è stata nel mese di Maggio:', np.min(np_lst))"
   ]
  },
  {
   "cell_type": "code",
   "execution_count": 12,
   "id": "4c1f0227-a21e-49c7-92d6-008adccc5bbf",
   "metadata": {},
   "outputs": [
    {
     "name": "stdout",
     "output_type": "stream",
     "text": [
      "Le vendite superiori a 4999 sono:\n",
      "5500\n",
      "7200\n",
      "6410\n",
      "8150\n",
      "7100\n",
      "5350\n",
      "Il numero di vendite superiori a 4999 è: 6\n"
     ]
    }
   ],
   "source": [
    "#quali sono le vendite mensili maggiori di 4999 oggetti? E quante ne sono?\n",
    "\n",
    "print('Le vendite superiori a 4999 sono:')\n",
    "contatore=0\n",
    "\n",
    "for vendite in np_lst:\n",
    "    if vendite > 4999:\n",
    "        print(vendite)\n",
    "        contatore += 1\n",
    "\n",
    "print('Il numero di vendite superiori a 4999 è:', contatore)\n",
    "\n"
   ]
  },
  {
   "cell_type": "code",
   "execution_count": 28,
   "id": "885998f2-90fe-4b16-b9c4-6b99db13368b",
   "metadata": {},
   "outputs": [
    {
     "name": "stdout",
     "output_type": "stream",
     "text": [
      "Le vendite superiori a 4999 sono: [5500 7200 6410 8150 7100 5350]\n",
      "Il numero di vendite superiori a 4999 è: 6\n"
     ]
    }
   ],
   "source": [
    "#oppure\n",
    "filtro= np_lst>4999\n",
    "print('Le vendite superiori a 4999 sono:',np_lst[filtro])\n",
    "\n",
    "print('Il numero di vendite superiori a 4999 è:', len(np_lst[filtro]))"
   ]
  },
  {
   "cell_type": "code",
   "execution_count": 33,
   "id": "b32b9d96-a944-4524-bfe9-1c7d3ecdabe0",
   "metadata": {},
   "outputs": [
    {
     "data": {
      "text/plain": [
       "array([5500, 7200, 6410, 8150, 7100, 5350])"
      ]
     },
     "execution_count": 33,
     "metadata": {},
     "output_type": "execute_result"
    }
   ],
   "source": [
    "#oppure\n",
    "\n",
    "np_lst[np_lst>4999]"
   ]
  },
  {
   "cell_type": "code",
   "execution_count": 13,
   "id": "c80887d0-b3e1-4536-9163-380957550d55",
   "metadata": {},
   "outputs": [
    {
     "name": "stdout",
     "output_type": "stream",
     "text": [
      "Le vendite inferiori a 3000 sono:\n",
      "2000\n",
      "1280\n",
      "1900\n",
      "2500\n",
      "Le vendite inferiori a 3000 sono: 4\n"
     ]
    }
   ],
   "source": [
    "#quali sono le vendite minori di 3000 oggetti?\n",
    "\n",
    "print('Le vendite inferiori a 3000 sono:')\n",
    "contat=0\n",
    "for vendite in np_lst:\n",
    "    if vendite<3000:\n",
    "        print(vendite)\n",
    "        contat+=1\n",
    "print('Le vendite inferiori a 3000 sono:', contat)"
   ]
  },
  {
   "cell_type": "code",
   "execution_count": 32,
   "id": "70107533-6844-4b9b-b5b8-80082f9b24b9",
   "metadata": {},
   "outputs": [
    {
     "name": "stdout",
     "output_type": "stream",
     "text": [
      "Le vendite inferiori a 3000 sono: [5500 7200 6410 8150 7100 5350]\n",
      "Le vendite inferiori a 3000 sono: 6\n"
     ]
    }
   ],
   "source": [
    "#oppure\n",
    "filtro: np_lst < 3000\n",
    "print('Le vendite inferiori a 3000 sono:', np_lst[filtro])\n",
    "print('Le vendite inferiori a 3000 sono:', (len(np_lst[filtro])))"
   ]
  },
  {
   "cell_type": "code",
   "execution_count": 14,
   "id": "fb008738-2016-42b0-b03b-5fffb070e84f",
   "metadata": {},
   "outputs": [
    {
     "name": "stdout",
     "output_type": "stream",
     "text": [
      "La media degli oggetti venduti è: 4634.166666666667\n"
     ]
    }
   ],
   "source": [
    "#in media quanti oggetti sono stati venduti al mese?\n",
    "\n",
    "media_vendite= np.mean(np_lst)\n",
    "\n",
    "print('La media degli oggetti venduti è:', media_vendite)"
   ]
  },
  {
   "cell_type": "code",
   "execution_count": 15,
   "id": "931efea1-4c2a-4851-b1db-180561fd807b",
   "metadata": {},
   "outputs": [],
   "source": [
    "import pandas as pd"
   ]
  },
  {
   "cell_type": "code",
   "execution_count": 16,
   "id": "fbe7e9a7-72f7-460a-b771-48922f88c126",
   "metadata": {},
   "outputs": [
    {
     "data": {
      "text/plain": [
       "12000"
      ]
     },
     "execution_count": 16,
     "metadata": {},
     "output_type": "execute_result"
    }
   ],
   "source": [
    "fatturati_dict = {1997: 12_000, 1998: 15_000, \n",
    "                  1999: 20_000, 2000: 23_000, \n",
    "                  2001: 25_000, 2002: 17_000, \n",
    "                  2003: 14_000, 2004: 21_000}\n",
    "\n",
    "fatturati_series = pd.Series([12_000, 15_000, 20_000, 23_000, 25_000, 17_000,\n",
    "                              14_000, 21_000], index=range(1997, 2005))\n",
    "\n",
    "fatturati_dict[1997] "
   ]
  },
  {
   "cell_type": "code",
   "execution_count": 17,
   "id": "a7ab8499-66fe-4861-ae6c-564ef1ba860c",
   "metadata": {},
   "outputs": [
    {
     "data": {
      "text/plain": [
       "12000"
      ]
     },
     "execution_count": 17,
     "metadata": {},
     "output_type": "execute_result"
    }
   ],
   "source": [
    "fatturati_series[1997]"
   ]
  },
  {
   "cell_type": "code",
   "execution_count": 18,
   "id": "f68d7cf4-4399-40b7-8d01-f445824b87d3",
   "metadata": {},
   "outputs": [
    {
     "name": "stdout",
     "output_type": "stream",
     "text": [
      "{1997: 12000, 1998: 15000, 1999: 20000, 2000: 23000, 2001: 25000, 2002: 17000, 2003: 14000, 2004: 21000}\n"
     ]
    }
   ],
   "source": [
    "print(fatturati_dict)"
   ]
  },
  {
   "cell_type": "code",
   "execution_count": 19,
   "id": "a2bee454-48e2-4dfc-8056-39e4ca4c0bf0",
   "metadata": {},
   "outputs": [
    {
     "name": "stdout",
     "output_type": "stream",
     "text": [
      "1997    12000\n",
      "1998    15000\n",
      "1999    20000\n",
      "2000    23000\n",
      "2001    25000\n",
      "2002    17000\n",
      "2003    14000\n",
      "2004    21000\n",
      "dtype: int64\n"
     ]
    }
   ],
   "source": [
    "print(fatturati_series)"
   ]
  },
  {
   "cell_type": "code",
   "execution_count": 34,
   "id": "4ac603ca-27b7-4aa5-9e4e-d918c967509a",
   "metadata": {},
   "outputs": [
    {
     "data": {
      "text/plain": [
       "<Axes: >"
      ]
     },
     "execution_count": 34,
     "metadata": {},
     "output_type": "execute_result"
    },
    {
     "data": {
      "image/png": "[encoded data removed]",
      "text/plain": [
       "<Figure size 640x480 with 1 Axes>"
      ]
     },
     "metadata": {},
     "output_type": "display_data"
    }
   ],
   "source": [
    "fatturati_series.plot()"
   ]
  },
  {
   "cell_type": "code",
   "execution_count": 20,
   "id": "ba540f37-c333-4544-a526-e87c5d2b737d",
   "metadata": {},
   "outputs": [],
   "source": [
    "stipendi = np.array( [100, 200, 300, 400, 500,  600, 700, 800, 900, 1000] )"
   ]
  },
  {
   "cell_type": "code",
   "execution_count": 21,
   "id": "e9b2947b-8e0f-45b6-a768-0a79b835782d",
   "metadata": {},
   "outputs": [
    {
     "name": "stdout",
     "output_type": "stream",
     "text": [
      "gli stipendi raddoppiati corrispondono a:\n",
      "200\n",
      "400\n",
      "600\n",
      "800\n",
      "1000\n",
      "1200\n",
      "1400\n",
      "1600\n",
      "1800\n",
      "2000\n"
     ]
    }
   ],
   "source": [
    "#L'azienda ci chiede di raddoppiare tutti gli stipendi; \n",
    "#con il for\n",
    "\n",
    "print('gli stipendi raddoppiati corrispondono a:')\n",
    "for stipendio in stipendi:\n",
    "    doppio_stipendio=stipendio*2\n",
    "    print(doppio_stipendio)"
   ]
  },
  {
   "cell_type": "code",
   "execution_count": 22,
   "id": "eacb0abf-e1e9-4e5a-afee-ad7666e3ff5a",
   "metadata": {},
   "outputs": [
    {
     "name": "stdout",
     "output_type": "stream",
     "text": [
      "gli stipendi raddoppiati sono: [ 200  400  600  800 1000 1200 1400 1600 1800 2000]\n"
     ]
    }
   ],
   "source": [
    "#L'azienda ci chiede di raddoppiare tutti gli stipendi; \n",
    "#con il masking\n",
    "\n",
    "stipendi_raddoppiati=stipendi*2\n",
    "print('gli stipendi raddoppiati sono:', stipendi_raddoppiati)"
   ]
  }
 ],
 "metadata": {
  "kernelspec": {
   "display_name": "Python 3 (ipykernel)",
   "language": "python",
   "name": "python3"
  },
  "language_info": {
   "codemirror_mode": {
    "name": "ipython",
    "version": 3
   },
   "file_extension": ".py",
   "mimetype": "text/x-python",
   "name": "python",
   "nbconvert_exporter": "python",
   "pygments_lexer": "ipython3",
   "version": "3.11.7"
  }
 },
 "nbformat": 4,
 "nbformat_minor": 5
}
