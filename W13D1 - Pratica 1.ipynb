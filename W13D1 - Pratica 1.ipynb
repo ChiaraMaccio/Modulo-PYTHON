{
 "cells": [
  {
   "cell_type": "code",
   "execution_count": null,
   "id": "9b2301fb-e5a4-41ea-90bf-a17569eed724",
   "metadata": {},
   "outputs": [],
   "source": [
    "#parte 1 ES 1 WEEK 9"
   ]
  },
  {
   "cell_type": "code",
   "execution_count": 1,
   "id": "5ce64805-6a47-4f0b-9846-cdf804cdd99f",
   "metadata": {},
   "outputs": [],
   "source": [
    "\n",
    "studenti = 25"
   ]
  },
  {
   "cell_type": "code",
   "execution_count": 2,
   "id": "41643614-d164-4f8b-bfff-aab7df89353e",
   "metadata": {},
   "outputs": [
    {
     "name": "stdout",
     "output_type": "stream",
     "text": [
      "25\n"
     ]
    }
   ],
   "source": [
    "print(studenti)"
   ]
  },
  {
   "cell_type": "code",
   "execution_count": 4,
   "id": "fda7a670-6a06-4743-9839-d13555abdc61",
   "metadata": {},
   "outputs": [],
   "source": [
    "studenti2 = 25 + 3"
   ]
  },
  {
   "cell_type": "code",
   "execution_count": 5,
   "id": "c0d30931-650c-47b1-8d24-e8414d5a5616",
   "metadata": {},
   "outputs": [
    {
     "name": "stdout",
     "output_type": "stream",
     "text": [
      "28\n"
     ]
    }
   ],
   "source": [
    "print(studenti2)"
   ]
  },
  {
   "cell_type": "code",
   "execution_count": 6,
   "id": "120c1acb-a47c-48c2-8f2f-8537af653aaa",
   "metadata": {},
   "outputs": [],
   "source": [
    "studenti += 3"
   ]
  },
  {
   "cell_type": "code",
   "execution_count": 7,
   "id": "66592841-84ce-444d-9a42-2432c5fa73fe",
   "metadata": {
    "scrolled": true
   },
   "outputs": [
    {
     "name": "stdout",
     "output_type": "stream",
     "text": [
      "28\n"
     ]
    }
   ],
   "source": [
    "print (studenti)"
   ]
  },
  {
   "cell_type": "code",
   "execution_count": null,
   "id": "95e13959-94d9-4397-8d85-addb2447e902",
   "metadata": {},
   "outputs": [],
   "source": [
    "#parte 2 ES 1 WEEK 9"
   ]
  },
  {
   "cell_type": "code",
   "execution_count": 10,
   "id": "583a09fa-698d-4509-91ca-a2be0f7b3d83",
   "metadata": {},
   "outputs": [],
   "source": [
    "var3='Epicode'"
   ]
  },
  {
   "cell_type": "code",
   "execution_count": 11,
   "id": "f9065290-3a5b-4849-9e6a-d254a1f70e1a",
   "metadata": {},
   "outputs": [
    {
     "name": "stdout",
     "output_type": "stream",
     "text": [
      "Epicode\n"
     ]
    }
   ],
   "source": [
    "print(var3)"
   ]
  },
  {
   "cell_type": "code",
   "execution_count": 12,
   "id": "82dde660-d1b5-411e-8490-92acb6dfa677",
   "metadata": {},
   "outputs": [],
   "source": [
    "x=10"
   ]
  },
  {
   "cell_type": "code",
   "execution_count": 13,
   "id": "cfc88366-6f2b-4419-aeaf-cf45bafad578",
   "metadata": {},
   "outputs": [
    {
     "name": "stdout",
     "output_type": "stream",
     "text": [
      "10\n"
     ]
    }
   ],
   "source": [
    "print(x)"
   ]
  },
  {
   "cell_type": "code",
   "execution_count": 14,
   "id": "cf775d17-e785-490a-b4c6-c33dd0d01e89",
   "metadata": {},
   "outputs": [],
   "source": [
    "x=10+2"
   ]
  },
  {
   "cell_type": "code",
   "execution_count": 15,
   "id": "b7960bb2-db21-4b36-95ba-1c368d29bf41",
   "metadata": {},
   "outputs": [
    {
     "name": "stdout",
     "output_type": "stream",
     "text": [
      "12\n"
     ]
    }
   ],
   "source": [
    "print(x)"
   ]
  },
  {
   "cell_type": "code",
   "execution_count": 16,
   "id": "663cb529-af1a-4fb0-b360-468467d861b1",
   "metadata": {},
   "outputs": [],
   "source": [
    "x*=3"
   ]
  },
  {
   "cell_type": "code",
   "execution_count": 17,
   "id": "82604e0a-5202-4ed3-8ac0-a4f759417ce9",
   "metadata": {
    "scrolled": true
   },
   "outputs": [
    {
     "name": "stdout",
     "output_type": "stream",
     "text": [
      "36\n"
     ]
    }
   ],
   "source": [
    "print(x)"
   ]
  },
  {
   "cell_type": "code",
   "execution_count": null,
   "id": "b52b0164-0675-49d1-ac66-bfdb74a73073",
   "metadata": {},
   "outputs": [],
   "source": [
    "#parte 3 ES 1 WEEK 9"
   ]
  },
  {
   "cell_type": "code",
   "execution_count": 18,
   "id": "f6d5dd42-db08-437e-a505-ec029497343b",
   "metadata": {},
   "outputs": [],
   "source": [
    "str1='Windows'"
   ]
  },
  {
   "cell_type": "code",
   "execution_count": 27,
   "id": "0144f297-df37-4919-a316-ab1afb90e255",
   "metadata": {},
   "outputs": [
    {
     "name": "stdout",
     "output_type": "stream",
     "text": [
      "True\n",
      "True\n"
     ]
    }
   ],
   "source": [
    "print(len(str1)>5) \n",
    "print(len(str1)<8)"
   ]
  },
  {
   "cell_type": "raw",
   "id": "39828952-da04-4bbc-a6b4-85044cf65ca8",
   "metadata": {},
   "source": [
    "if 5 <= len('Windows') <= 8:\n",
    "    print('true')\n",
    "else:\n",
    "    print('false')"
   ]
  },
  {
   "cell_type": "code",
   "execution_count": 30,
   "id": "083a1cbf-9a19-4ca3-b9ea-eda85e2c97af",
   "metadata": {},
   "outputs": [],
   "source": [
    "str2='Excel'"
   ]
  },
  {
   "cell_type": "code",
   "execution_count": 35,
   "id": "f80ec123-5b75-43db-aac2-ef977afe0824",
   "metadata": {},
   "outputs": [
    {
     "name": "stdout",
     "output_type": "stream",
     "text": [
      "true\n"
     ]
    }
   ],
   "source": [
    "if 5 <= len('Excel') <= 8:\n",
    "    print('true')\n",
    "else:\n",
    "    print('false')"
   ]
  },
  {
   "cell_type": "code",
   "execution_count": 36,
   "id": "576f4233-eb74-4ecd-ae6a-55942ff151db",
   "metadata": {},
   "outputs": [],
   "source": [
    "str3='Powerpoint'"
   ]
  },
  {
   "cell_type": "code",
   "execution_count": 46,
   "id": "bf208304-7eb8-4f4f-80fe-9e775c504427",
   "metadata": {},
   "outputs": [
    {
     "name": "stdout",
     "output_type": "stream",
     "text": [
      "false\n"
     ]
    }
   ],
   "source": [
    "if 5 <= len('Powerpoint') <= 8:\n",
    "    print('true')\n",
    "else:\n",
    "    print('false')"
   ]
  },
  {
   "cell_type": "code",
   "execution_count": 47,
   "id": "a96e73bc-d0a9-4331-9169-37e20a798ab2",
   "metadata": {},
   "outputs": [],
   "source": [
    "str4='Word'"
   ]
  },
  {
   "cell_type": "code",
   "execution_count": 48,
   "id": "6ebaf0e1-2a6b-408c-8c07-5cb651587260",
   "metadata": {},
   "outputs": [
    {
     "name": "stdout",
     "output_type": "stream",
     "text": [
      "false\n"
     ]
    }
   ],
   "source": [
    "if 5 <= len('Word') <=8:\n",
    "    print('true')\n",
    "else:\n",
    "    print('false')"
   ]
  },
  {
   "cell_type": "code",
   "execution_count": null,
   "id": "45564632-81af-451f-a851-b05a43e1747f",
   "metadata": {},
   "outputs": [],
   "source": [
    "#parte 4 ES 1 WEEK 9"
   ]
  },
  {
   "cell_type": "code",
   "execution_count": 54,
   "id": "cd31f8d1-5f51-4579-9d62-91d660e274c9",
   "metadata": {},
   "outputs": [],
   "source": [
    "sec_year = 365*86400"
   ]
  },
  {
   "cell_type": "code",
   "execution_count": 55,
   "id": "b714383a-54a0-4c50-920b-67cf4c82a601",
   "metadata": {},
   "outputs": [
    {
     "name": "stdout",
     "output_type": "stream",
     "text": [
      "31536000\n"
     ]
    }
   ],
   "source": [
    "print(sec_year)"
   ]
  },
  {
   "cell_type": "code",
   "execution_count": null,
   "id": "6da02eec-f3bf-4701-9539-9a60899be64d",
   "metadata": {},
   "outputs": [],
   "source": [
    "#parte 5 ES 1 WEEK 9"
   ]
  },
  {
   "cell_type": "code",
   "execution_count": 53,
   "id": "6e918f8e-1c99-4525-9914-4c439d0f0f2b",
   "metadata": {},
   "outputs": [],
   "source": [
    "my_string = \"I am studying Python\""
   ]
  },
  {
   "cell_type": "code",
   "execution_count": 56,
   "id": "c9409e8d-5790-4bd0-88a2-6dea5e03ae95",
   "metadata": {},
   "outputs": [
    {
     "data": {
      "text/plain": [
       "'I AM STUDYING PYTHON'"
      ]
     },
     "execution_count": 56,
     "metadata": {},
     "output_type": "execute_result"
    }
   ],
   "source": [
    "my_string.upper()"
   ]
  },
  {
   "cell_type": "code",
   "execution_count": 57,
   "id": "1a99de9b-251c-4728-ae0c-06fb5686095c",
   "metadata": {},
   "outputs": [
    {
     "data": {
      "text/plain": [
       "'i am studying python'"
      ]
     },
     "execution_count": 57,
     "metadata": {},
     "output_type": "execute_result"
    }
   ],
   "source": [
    "my_string.lower()"
   ]
  },
  {
   "cell_type": "code",
   "execution_count": 58,
   "id": "76b77009-44fc-42a7-96aa-918ad81c5801",
   "metadata": {},
   "outputs": [
    {
     "data": {
      "text/plain": [
       "'I am studying a lot'"
      ]
     },
     "execution_count": 58,
     "metadata": {},
     "output_type": "execute_result"
    }
   ],
   "source": [
    "my_string.replace('Python','a lot')"
   ]
  },
  {
   "cell_type": "code",
   "execution_count": 59,
   "id": "2a129bc0-2a3b-405b-adbf-b7fe767f1bac",
   "metadata": {},
   "outputs": [
    {
     "data": {
      "text/plain": [
       "'I am studying Python'"
      ]
     },
     "execution_count": 59,
     "metadata": {},
     "output_type": "execute_result"
    }
   ],
   "source": [
    "my_string.strip()"
   ]
  },
  {
   "cell_type": "code",
   "execution_count": 60,
   "id": "4f13e62a-2e10-4bfb-a039-d3648e195410",
   "metadata": {},
   "outputs": [],
   "source": [
    "# non cambia niente perchè non c'erano spazi a inizio o fine frase da eliminare"
   ]
  },
  {
   "cell_type": "code",
   "execution_count": null,
   "id": "67afa5fe-3290-4326-bab1-5c383be5d3cd",
   "metadata": {},
   "outputs": [],
   "source": []
  }
 ],
 "metadata": {
  "kernelspec": {
   "display_name": "Python 3 (ipykernel)",
   "language": "python",
   "name": "python3"
  },
  "language_info": {
   "codemirror_mode": {
    "name": "ipython",
    "version": 3
   },
   "file_extension": ".py",
   "mimetype": "text/x-python",
   "name": "python",
   "nbconvert_exporter": "python",
   "pygments_lexer": "ipython3",
   "version": "3.11.7"
  }
 },
 "nbformat": 4,
 "nbformat_minor": 5
}
