{
 "cells": [
  {
   "cell_type": "code",
   "execution_count": 1,
   "id": "5dfdbe1a-4cbb-489e-a684-ec14d37e0074",
   "metadata": {},
   "outputs": [],
   "source": [
    "# *ESERCIZIO PRATICA 2 - W13D2*"
   ]
  },
  {
   "cell_type": "code",
   "execution_count": 2,
   "id": "b1916cab-07bc-490a-8a2c-bf3a4f402f88",
   "metadata": {},
   "outputs": [],
   "source": [
    "nome_scuola='Epicode'"
   ]
  },
  {
   "cell_type": "code",
   "execution_count": 3,
   "id": "042bb48f-8e9d-4b12-a20d-846cecaf08d3",
   "metadata": {},
   "outputs": [
    {
     "name": "stdout",
     "output_type": "stream",
     "text": [
      "E\n",
      "p\n",
      "i\n",
      "c\n",
      "o\n",
      "d\n",
      "e\n"
     ]
    }
   ],
   "source": [
    "#Stampare ogni carattere della stringa, \n",
    "#uno su ogni riga, utilizzando un costrutto while.\n",
    "\n",
    "num_lett = len(nome_scuola)\n",
    "i=0\n",
    "\n",
    "while i < num_lett:\n",
    "    print(nome_scuola[i])\n",
    "    i += 1"
   ]
  },
  {
   "cell_type": "code",
   "execution_count": 4,
   "id": "7a31f0c8-64e1-4ef6-9574-7b025617d639",
   "metadata": {},
   "outputs": [
    {
     "name": "stdout",
     "output_type": "stream",
     "text": [
      "E\n",
      "p\n",
      "i\n",
      "c\n",
      "o\n",
      "d\n",
      "e\n"
     ]
    }
   ],
   "source": [
    "for lettera in nome_scuola:\n",
    "    print(lettera)"
   ]
  },
  {
   "cell_type": "code",
   "execution_count": 5,
   "id": "054fd737-4630-4b34-9b91-fc0e70e5d9e4",
   "metadata": {},
   "outputs": [
    {
     "name": "stdout",
     "output_type": "stream",
     "text": [
      "0\n",
      "1\n",
      "2\n",
      "3\n",
      "4\n",
      "5\n",
      "6\n",
      "7\n",
      "8\n",
      "9\n",
      "10\n",
      "11\n",
      "12\n",
      "13\n",
      "14\n",
      "15\n",
      "16\n",
      "17\n",
      "18\n",
      "19\n",
      "20\n"
     ]
    }
   ],
   "source": [
    "#Stampare a video tutti i numeri da 0 a 20 \n",
    "#utilizzando il costrutto while\n",
    "\n",
    "i=0\n",
    "fino_a=20\n",
    "while i <= fino_a:\n",
    "    print(i)\n",
    "    i += 1"
   ]
  },
  {
   "cell_type": "code",
   "execution_count": 6,
   "id": "01434cde-fcdb-4668-a705-579c657c782e",
   "metadata": {},
   "outputs": [
    {
     "name": "stdout",
     "output_type": "stream",
     "text": [
      "2\n",
      "4\n",
      "8\n",
      "16\n",
      "32\n",
      "64\n",
      "128\n",
      "256\n",
      "512\n",
      "1024\n"
     ]
    }
   ],
   "source": [
    "#Calcolare e stampare tutte le prime 10 potenze di 2 (e.g., 2⁰, 2¹, 2², …) \n",
    "#utilizzando un ciclo while.\n",
    "n=2\n",
    "pot=0\n",
    "\n",
    "while pot < 10:\n",
    "    pot += 1\n",
    "    print(n**pot)"
   ]
  },
  {
   "cell_type": "code",
   "execution_count": 7,
   "id": "1d313034-024f-4ffd-9d91-2053d54b1e3f",
   "metadata": {},
   "outputs": [
    {
     "name": "stdout",
     "output_type": "stream",
     "text": [
      "2\n",
      "4\n",
      "8\n",
      "16\n",
      "32\n",
      "64\n",
      "128\n",
      "256\n",
      "512\n",
      "1024\n",
      "2048\n",
      "4096\n",
      "8192\n",
      "16384\n",
      "32768\n"
     ]
    }
   ],
   "source": [
    "#\n",
    "pot=0\n",
    "\n",
    "while n:\n",
    "    pot += 1\n",
    "    print(n**pot)\n",
    "    \n",
    "    if n**pot >= 25000:\n",
    "        break"
   ]
  },
  {
   "cell_type": "code",
   "execution_count": 8,
   "id": "248aed5c-60d5-4ed7-a01b-ee2abd9876f4",
   "metadata": {},
   "outputs": [
    {
     "name": "stdout",
     "output_type": "stream",
     "text": [
      "['Alex', 'Bob', 'Cindy', 'Dan', 'Emma', 'Faith', 'Grace', 'Henry'] ['Cybersecurity', 'Data Analyst', 'Backend', 'Frontend', 'Data Analyst', 'Backend']\n"
     ]
    }
   ],
   "source": [
    "studenti = [\"Alex\", \"Bob\", \"Cindy\", \"Dan\", \"Emma\", \"Faith\", \"Grace\", \"Henry\"] \n",
    "corsi = [\"Cybersecurity\", \"Data Analyst\", \"Backend\", \"Frontend\", \"Data Analyst\", \"Backend\"]\n",
    "print(studenti,corsi)"
   ]
  },
  {
   "cell_type": "code",
   "execution_count": 9,
   "id": "0055b7fe-f00b-4901-a830-cf2289554a2a",
   "metadata": {},
   "outputs": [
    {
     "name": "stdout",
     "output_type": "stream",
     "text": [
      "['Cybersecurity', 'Data Analyst', 'Backend', 'Frontend', 'Data Analyst', 'Backend', 'AI', 'Digital Marketing']\n"
     ]
    }
   ],
   "source": [
    "\n",
    "corsi.append('AI')\n",
    "corsi.append('Digital Marketing')\n",
    "print(corsi)"
   ]
  },
  {
   "cell_type": "code",
   "execution_count": 10,
   "id": "d4588ae9-2f11-43bd-880e-ec150820c798",
   "metadata": {},
   "outputs": [
    {
     "name": "stdout",
     "output_type": "stream",
     "text": [
      "*******\n",
      "***\n",
      "****\n",
      "*\n",
      "*********\n",
      "*************\n"
     ]
    }
   ],
   "source": [
    "#data una lista di numeri, come output stamperà\n",
    "#lo stesso numero di asterischi su righe diverse\n",
    "\n",
    "num_ast=[7 , 3, 4 , 1 , 9, 13] \n",
    "\n",
    "for numero in num_ast:\n",
    "    print('*'* numero)\n"
   ]
  },
  {
   "cell_type": "code",
   "execution_count": 11,
   "id": "74ecc649-5630-4901-9d0a-ace01024c52f",
   "metadata": {},
   "outputs": [],
   "source": [
    "lista_cf = [\"ABCDEF95G01A123B\", \"GHIJKL91M02A321C\", \n",
    "            \"MNOPQR89S03A456D\", \"STUVWX95Z04A654E\", \n",
    "            \"XYZABC01D05A789F\", \"DEFGHI95J06A987G\"]\n"
   ]
  },
  {
   "cell_type": "code",
   "execution_count": 12,
   "id": "664945db-d350-42c7-b767-414cd2bab315",
   "metadata": {},
   "outputs": [
    {
     "name": "stdout",
     "output_type": "stream",
     "text": [
      "True - ABCDEF95G01A123B\n",
      "False - GHIJKL91M02A321C\n",
      "False - MNOPQR89S03A456D\n",
      "True - STUVWX95Z04A654E\n",
      "False - XYZABC01D05A789F\n",
      "True - DEFGHI95J06A987G\n"
     ]
    }
   ],
   "source": [
    "# trovare i codici fiscali che contengono \"95\", \n",
    "#metterli in una lista, e alla fine stamparla\n",
    "\n",
    "for cf in lista_cf:\n",
    "   presenza_95 =\"95\" in cf\n",
    "   print(presenza_95, '-', cf)"
   ]
  },
  {
   "cell_type": "code",
   "execution_count": 13,
   "id": "a8f55367-b6a4-4c25-b478-4b1cbcb8abfe",
   "metadata": {},
   "outputs": [
    {
     "name": "stdout",
     "output_type": "stream",
     "text": [
      "ABCDEF95G01A123B\n",
      "-\n",
      "-\n",
      "STUVWX95Z04A654E\n",
      "-\n",
      "DEFGHI95J06A987G\n"
     ]
    }
   ],
   "source": [
    " for cf in lista_cf:\n",
    "   presenza_95 =\"95\" in cf\n",
    "   if presenza_95:\n",
    "         print(cf)\n",
    "   else: print('-') "
   ]
  },
  {
   "cell_type": "code",
   "execution_count": 14,
   "id": "ebb50f61-0e1d-4dda-b1d8-4ce42a53c351",
   "metadata": {},
   "outputs": [
    {
     "name": "stdout",
     "output_type": "stream",
     "text": [
      "ABCDEF95G01A123B\n",
      "-\n",
      "-\n",
      "STUVWX95Z04A654E\n",
      "-\n",
      "DEFGHI95J06A987G\n"
     ]
    }
   ],
   "source": [
    " for cf in lista_cf:\n",
    "   if (\"95\" in cf):\n",
    "         print(cf)\n",
    "   else: print('-') "
   ]
  },
  {
   "cell_type": "code",
   "execution_count": 15,
   "id": "aeeb169c-af54-4b7c-b944-b90439b67f00",
   "metadata": {},
   "outputs": [
    {
     "name": "stdout",
     "output_type": "stream",
     "text": [
      "1\n",
      "13\n"
     ]
    }
   ],
   "source": [
    "#trova i numeri per cui è divisibile 150\n",
    "\n",
    "div=1\n",
    "while div <= numero:\n",
    "    if numero % div == 0:\n",
    "        numero/= div\n",
    "        print(div)\n",
    "    div+=1\n",
    "\n"
   ]
  },
  {
   "cell_type": "code",
   "execution_count": 16,
   "id": "7168c594-62f7-4060-bbab-d58349d891dd",
   "metadata": {},
   "outputs": [
    {
     "name": "stdout",
     "output_type": "stream",
     "text": [
      "2\n",
      "3\n",
      "5\n",
      "5\n"
     ]
    }
   ],
   "source": [
    "#in realtà il 5 dovrebbe comparire 2 volte per farlo aggiungere un altro while\n",
    "\n",
    "numero = 150\n",
    "div = 2\n",
    "\n",
    "while div <= numero:\n",
    "    if numero % div == 0:\n",
    "        numero/= div\n",
    "        while numero % div == 0:\n",
    "            numero /= div\n",
    "            print(div)\n",
    "        print(div)\n",
    "    div += 1"
   ]
  },
  {
   "cell_type": "code",
   "execution_count": 17,
   "id": "32067435-ec51-4da3-a217-9baeeb9e7353",
   "metadata": {},
   "outputs": [
    {
     "name": "stdout",
     "output_type": "stream",
     "text": [
      "seg ... ola\n"
     ]
    }
   ],
   "source": [
    "str1='seggiola'\n",
    "prime_lett= str1[0:3]\n",
    "ultime_lett= str1[5:8]\n",
    "\n",
    "print(prime_lett,'...',ultime_lett)"
   ]
  },
  {
   "cell_type": "code",
   "execution_count": 18,
   "id": "bebed6ce-11e3-4e37-9323-4352efbab8a3",
   "metadata": {},
   "outputs": [],
   "source": [
    "import numpy as np"
   ]
  },
  {
   "cell_type": "code",
   "execution_count": 19,
   "id": "2a48a440-7d60-470d-99c2-b34d5813f818",
   "metadata": {},
   "outputs": [
    {
     "name": "stdout",
     "output_type": "stream",
     "text": [
      "seg - ola\n",
      "cal - ino\n",
      "tav - olo\n",
      "sga - llo\n",
      "ne - ve\n",
      "b - u\n",
      "pip - llo\n"
     ]
    }
   ],
   "source": [
    "#stampare prime e ultime 3 lettere di una lista\n",
    "\n",
    "str1= ['seggiola','calzino','tavolo','sgabello','neve','blu','pipistrello']\n",
    "np_str1 = np.array(str1)\n",
    "for cose in np_str1:\n",
    "    if len(cose)>= 6:\n",
    "        print(cose[0:3],'-',cose[-3:])\n",
    "    if 4 <= len(cose)<= 5:\n",
    "        print(cose[0:2],'-',cose[-2:])\n",
    "    if len(cose)<=3:\n",
    "        print(cose[0:1],'-',cose[-1:])\n",
    "        "
   ]
  },
  {
   "cell_type": "code",
   "execution_count": 20,
   "id": "9184703f-b4b1-4f48-976c-a0ba498a1658",
   "metadata": {},
   "outputs": [
    {
     "name": "stdout",
     "output_type": "stream",
     "text": [
      "la media dei guadagni è 70.0\n"
     ]
    }
   ],
   "source": [
    "#calcolare la media dei guadagni\n",
    "\n",
    "guadagni = [100, 90, 70, 40, 50, 80, 90, 120, 80, 20, 50, 50]\n",
    "guadagni_np=np.array(guadagni)\n",
    "print('la media dei guadagni è', np.mean(guadagni_np))"
   ]
  },
  {
   "cell_type": "code",
   "execution_count": 21,
   "id": "cdd3c62b-d354-4d84-906e-35dfe6589bcf",
   "metadata": {},
   "outputs": [
    {
     "name": "stdout",
     "output_type": "stream",
     "text": [
      "la media dei guadagni è 70.0\n"
     ]
    }
   ],
   "source": [
    "#calcolare media guadagni con for\n",
    "\n",
    "guadagni2 = [100, 90, 70, 40, 50, 80, 90, 120, 80, 20, 50, 50]\n",
    "somma=0\n",
    "for soldoni in guadagni:\n",
    "   somma+=soldoni\n",
    "media = somma/len(guadagni2)\n",
    "print('la media dei guadagni è', media)\n"
   ]
  },
  {
   "cell_type": "code",
   "execution_count": 22,
   "id": "2ceb7de4-4fab-4c8a-852c-1bb3248bba26",
   "metadata": {},
   "outputs": [
    {
     "name": "stdout",
     "output_type": "stream",
     "text": [
      "la somma dei guadagni è 840\n",
      "la media dei guadagni è 70.0\n"
     ]
    }
   ],
   "source": [
    "#calcolare media guadagni con while\n",
    "\n",
    "guadagni2 = [100, 90, 70, 40, 50, 80, 90, 120, 80, 20, 50, 50]\n",
    "somma=0\n",
    "ind=0\n",
    "while ind<len(guadagni):\n",
    "    somma+=guadagni2[ind]\n",
    "    ind+=1\n",
    "print('la somma dei guadagni è',somma)\n",
    "media= somma/len(guadagni2)\n",
    "print('la media dei guadagni è',media)"
   ]
  },
  {
   "cell_type": "code",
   "execution_count": 23,
   "id": "fc9c48c4-aa9b-486e-a340-f59f1823a7d0",
   "metadata": {},
   "outputs": [],
   "source": [
    "import pandas as pd"
   ]
  },
  {
   "cell_type": "code",
   "execution_count": 24,
   "id": "2e0cce78-5c4e-473a-8759-cfcd2ef5c435",
   "metadata": {},
   "outputs": [
    {
     "data": {
      "text/html": [
       "<div>\n",
       "<style scoped>\n",
       "    .dataframe tbody tr th:only-of-type {\n",
       "        vertical-align: middle;\n",
       "    }\n",
       "\n",
       "    .dataframe tbody tr th {\n",
       "        vertical-align: top;\n",
       "    }\n",
       "\n",
       "    .dataframe thead th {\n",
       "        text-align: right;\n",
       "    }\n",
       "</style>\n",
       "<table border=\"1\" class=\"dataframe\">\n",
       "  <thead>\n",
       "    <tr style=\"text-align: right;\">\n",
       "      <th></th>\n",
       "      <th>studenti</th>\n",
       "      <th>corsi</th>\n",
       "      <th>edizioni</th>\n",
       "    </tr>\n",
       "  </thead>\n",
       "  <tbody>\n",
       "    <tr>\n",
       "      <th>-</th>\n",
       "      <td>Alex</td>\n",
       "      <td>Cybersecurity</td>\n",
       "      <td>1</td>\n",
       "    </tr>\n",
       "    <tr>\n",
       "      <th>-</th>\n",
       "      <td>Faith</td>\n",
       "      <td>Backend</td>\n",
       "      <td>1</td>\n",
       "    </tr>\n",
       "  </tbody>\n",
       "</table>\n",
       "</div>"
      ],
      "text/plain": [
       "  studenti          corsi  edizioni\n",
       "-     Alex  Cybersecurity         1\n",
       "-    Faith        Backend         1"
      ]
     },
     "execution_count": 24,
     "metadata": {},
     "output_type": "execute_result"
    }
   ],
   "source": [
    "#Stampare a video tutti e soli gli studenti che frequentano una prima edizione; \n",
    "#non tutti i dati potrebbero essere necessari.\n",
    "\n",
    "tab={'studenti': [\"Alex\", \"Bob\", \"Cindy\", \"Dan\", \"Emma\", \"Faith\", \"Grace\",\n",
    "\"Henry\"], 'corsi' : [\"Cybersecurity\", \"Data Analyst\", \"Backend\", \"Frontend\",\n",
    "\"Data Analyst\", \"Backend\", \"Frontend\",\"Cybersecurity\"], 'edizioni':[1, 2, 3, 2, 2, 1, 3, 3]}\n",
    "studenti_corsi=pd.DataFrame(tab, index=['-','-','-','-','-','-','-','-'])\n",
    "studenti_corsi\n",
    "\n",
    "prime_edizioni=studenti_corsi.loc[studenti_corsi['edizioni']==1]\n",
    "prime_edizioni"
   ]
  },
  {
   "cell_type": "code",
   "execution_count": 25,
   "id": "c4f2b612-0ed4-4354-8c11-1b690cff5283",
   "metadata": {},
   "outputs": [
    {
     "name": "stdout",
     "output_type": "stream",
     "text": [
      "['100 $', '200 $', '500 $', '10 $', '50 $', '70 $']\n"
     ]
    }
   ],
   "source": [
    "#cambiare il simbolo dell'euro (€) in quello del dollaro ($) per ogni stringa nella lista\n",
    "\n",
    "prezzi = [\"100 €\", \"200 €\", \"500 €\", \"10 €\", \"50 €\", \"70 €\"]\n",
    "prezzi_dollaro = [prezzo.replace('€','$') for prezzo in prezzi]\n",
    "print(prezzi_dollaro)"
   ]
  },
  {
   "cell_type": "code",
   "execution_count": 26,
   "id": "7df2a2c5-d4e0-4561-8211-835d62321fc9",
   "metadata": {},
   "outputs": [
    {
     "name": "stdout",
     "output_type": "stream",
     "text": [
      "Albergo ha 1 e\n",
      "Sedia ha 1 e\n",
      "Borgo ha 0 e\n",
      "Petalo ha 1 e\n",
      "Eremo ha 2 e\n",
      "Belvedere ha 4 e\n",
      "Semestre ha 3 e\n",
      "Esteta ha 2 e\n",
      "Sosta ha 0 e\n",
      "Orpello ha 1 e\n",
      "Abete ha 2 e\n",
      "Orologio ha 0 e\n",
      "Cesta ha 1 e\n",
      "Ermellino ha 2 e\n"
     ]
    }
   ],
   "source": [
    "#stampiamo, per ogni parola, quante volte appare la lettera \"e\"; \n",
    "# sia maiuscola che minuscola.\n",
    "\n",
    "parole = [\"Albergo\", \"Sedia\", \"Borgo\", \"Petalo\", \"Eremo\",\n",
    "\"Belvedere\", \"Semestre\", \"Esteta\", \"Sosta\", \"Orpello\",\n",
    "\"Abete\", \"Orologio\", \"Cesta\", \"Ermellino\"]\n",
    "\n",
    "for parola in parole:\n",
    "        conteggio = 0\n",
    "        for lettera in parola:\n",
    "           if lettera in ['e','E']:\n",
    "               conteggio +=1\n",
    "        print(parola, 'ha', conteggio, 'e')\n",
    "\n",
    "        "
   ]
  },
  {
   "cell_type": "code",
   "execution_count": 27,
   "id": "d6f3d374-3280-40ce-96e9-6e68c691141f",
   "metadata": {},
   "outputs": [
    {
     "name": "stdout",
     "output_type": "stream",
     "text": [
      "albergo ha 1 e\n",
      "sedia ha 1 e\n",
      "borgo ha 0 e\n",
      "petalo ha 1 e\n",
      "eremo ha 2 e\n",
      "belvedere ha 4 e\n",
      "semestre ha 3 e\n",
      "esteta ha 2 e\n",
      "sosta ha 0 e\n",
      "orpello ha 1 e\n",
      "abete ha 2 e\n",
      "orologio ha 0 e\n",
      "cesta ha 1 e\n",
      "ermellino ha 2 e\n"
     ]
    }
   ],
   "source": [
    "#oppure#\n",
    "\n",
    "parole2 = [\"Albergo\", \"Sedia\", \"Borgo\", \"Petalo\", \"Eremo\",\n",
    "\"Belvedere\", \"Semestre\", \"Esteta\", \"Sosta\", \"Orpello\",\n",
    "\"Abete\", \"Orologio\", \"Cesta\", \"Ermellino\"]\n",
    "\n",
    "for parola2 in parole2:\n",
    "        parola2=parola2.lower()    \n",
    "        conteggio=parola2.count('e')\n",
    "        print(parola2, 'ha', conteggio, 'e')\n"
   ]
  },
  {
   "cell_type": "code",
   "execution_count": 28,
   "id": "476a7386-679e-4c04-8bc1-1de4b37cfae5",
   "metadata": {},
   "outputs": [
    {
     "name": "stdout",
     "output_type": "stream",
     "text": [
      "{'Ada': 'Punto', 'Ben': 'Multipla', 'Charlie': 'Golf', 'Debbie': '107'}\n"
     ]
    },
    {
     "data": {
      "text/plain": [
       "'107'"
      ]
     },
     "execution_count": 28,
     "metadata": {},
     "output_type": "execute_result"
    }
   ],
   "source": [
    "#Creiamo un dizionario che assegni ad ogni proprietario la sua auto\n",
    "\n",
    "automobili={'Ada':'Punto','Ben':'Multipla','Charlie':'Golf','Debbie':'107'}\n",
    "\n",
    "#Stampiamo il dizionario per intero, e poi l'auto associata a Debbie\n",
    "\n",
    "print(automobili)\n",
    "\n",
    "automobili['Debbie']"
   ]
  },
  {
   "cell_type": "code",
   "execution_count": 29,
   "id": "16ce8b38-dfc8-471e-b4f7-f1b1e87421bc",
   "metadata": {},
   "outputs": [
    {
     "name": "stdout",
     "output_type": "stream",
     "text": [
      "Punto\n",
      "Golf\n",
      "107\n"
     ]
    }
   ],
   "source": [
    "#Con un ciclo, e usando il metodo .values()\n",
    "#stampiamo a video tutte le autoche non sono una Multipla.\n",
    "\n",
    "for auto in automobili.values():\n",
    "    if auto != 'Multipla':\n",
    "        print(auto)"
   ]
  },
  {
   "cell_type": "code",
   "execution_count": 30,
   "id": "2372577a-266d-4914-ab71-8b0ef55b4908",
   "metadata": {},
   "outputs": [
    {
     "name": "stdout",
     "output_type": "stream",
     "text": [
      "{'Ada': 'Punto', 'Ben': 'Polo', 'Charlie': 'Golf', 'Debbie': '107', 'Emily': 'A1', 'Fred': 'Octavia', 'Grace': 'Yaris', 'Hugh': 'Clio'}\n"
     ]
    }
   ],
   "source": [
    "automobili1 = {\"Ada\": \"Punto\", \"Ben\": \"Multipla\",\"Charlie\": \"Golf\", \"Debbie\": \"107\", \"Emily\": \"A1\"}\n",
    "\n",
    "\n",
    "automobili1.update({\"Ben\": \"Polo\", \"Fred\": \"Octavia\",\"Grace\": \"Yaris\", \"Hugh\": \"Clio\"})\n",
    "\n",
    "print(automobili1)"
   ]
  },
  {
   "cell_type": "code",
   "execution_count": 31,
   "id": "4d7aeb8c-985a-48ff-937a-d7c502dd3cee",
   "metadata": {},
   "outputs": [
    {
     "data": {
      "text/html": [
       "<div>\n",
       "<style scoped>\n",
       "    .dataframe tbody tr th:only-of-type {\n",
       "        vertical-align: middle;\n",
       "    }\n",
       "\n",
       "    .dataframe tbody tr th {\n",
       "        vertical-align: top;\n",
       "    }\n",
       "\n",
       "    .dataframe thead th {\n",
       "        text-align: right;\n",
       "    }\n",
       "</style>\n",
       "<table border=\"1\" class=\"dataframe\">\n",
       "  <thead>\n",
       "    <tr style=\"text-align: right;\">\n",
       "      <th></th>\n",
       "      <th>Proprietari</th>\n",
       "      <th>automobili</th>\n",
       "    </tr>\n",
       "  </thead>\n",
       "  <tbody>\n",
       "    <tr>\n",
       "      <th>0</th>\n",
       "      <td>Ada</td>\n",
       "      <td>Punto</td>\n",
       "    </tr>\n",
       "    <tr>\n",
       "      <th>1</th>\n",
       "      <td>Ben</td>\n",
       "      <td>Polo</td>\n",
       "    </tr>\n",
       "    <tr>\n",
       "      <th>2</th>\n",
       "      <td>Charlie</td>\n",
       "      <td>Golf</td>\n",
       "    </tr>\n",
       "    <tr>\n",
       "      <th>3</th>\n",
       "      <td>Debbie</td>\n",
       "      <td>107</td>\n",
       "    </tr>\n",
       "    <tr>\n",
       "      <th>4</th>\n",
       "      <td>Emily</td>\n",
       "      <td>A1</td>\n",
       "    </tr>\n",
       "    <tr>\n",
       "      <th>5</th>\n",
       "      <td>Fred</td>\n",
       "      <td>Octavia</td>\n",
       "    </tr>\n",
       "    <tr>\n",
       "      <th>6</th>\n",
       "      <td>Grace</td>\n",
       "      <td>Yaris</td>\n",
       "    </tr>\n",
       "    <tr>\n",
       "      <th>7</th>\n",
       "      <td>Hugh</td>\n",
       "      <td>Clio</td>\n",
       "    </tr>\n",
       "  </tbody>\n",
       "</table>\n",
       "</div>"
      ],
      "text/plain": [
       "  Proprietari automobili\n",
       "0         Ada      Punto\n",
       "1         Ben       Polo\n",
       "2     Charlie       Golf\n",
       "3      Debbie        107\n",
       "4       Emily         A1\n",
       "5        Fred    Octavia\n",
       "6       Grace      Yaris\n",
       "7        Hugh       Clio"
      ]
     },
     "execution_count": 31,
     "metadata": {},
     "output_type": "execute_result"
    }
   ],
   "source": [
    "tab_auto ={'Proprietari':['Ada','Ben', 'Charlie','Debbie','Emily','Fred','Grace','Hugh'], 'automobili':['Punto','Polo','Golf','107','A1','Octavia','Yaris','Clio']}\n",
    "pd_tab_auto=pd.DataFrame(tab_auto)\n",
    "\n",
    "pd_tab_auto"
   ]
  },
  {
   "cell_type": "code",
   "execution_count": 32,
   "id": "e850baf2-35d8-4818-b9af-64cc850db741",
   "metadata": {},
   "outputs": [
    {
     "name": "stdout",
     "output_type": "stream",
     "text": [
      "il numero minimo della lista è 5 in numero massimo è 104\n"
     ]
    }
   ],
   "source": [
    "listaccia=[23,11,76,32,5,9,74,13,104]\n",
    "print('il numero minimo della lista è', min(listaccia),'in numero massimo è',max(listaccia))"
   ]
  },
  {
   "cell_type": "code",
   "execution_count": 33,
   "id": "7576e3df-a2e6-44cb-920d-dc7b5d22cc61",
   "metadata": {},
   "outputs": [
    {
     "name": "stdout",
     "output_type": "stream",
     "text": [
      "[74, 76, 104]\n"
     ]
    }
   ],
   "source": [
    "lista_ordinata= sorted(listaccia)\n",
    "\n",
    "print(lista_ordinata[-3:])"
   ]
  },
  {
   "cell_type": "code",
   "execution_count": 58,
   "id": "fcaa7d97-d43b-42d8-8a2c-982e60f823de",
   "metadata": {},
   "outputs": [
    {
     "name": "stdout",
     "output_type": "stream",
     "text": [
      "la media dei numeri maggiori di 32 è 71.5\n"
     ]
    }
   ],
   "source": [
    "listaccia=[23,11,76,32,5,9,74,13,104]\n",
    "\n",
    "k=32\n",
    "somma=0\n",
    "conteggio=0\n",
    "\n",
    "for numero in listaccia:\n",
    "    if numero >= k:\n",
    "        somma+=numero\n",
    "        conteggio+=1\n",
    "media = somma/conteggio\n",
    "print('la media dei numeri maggiori di 32 è',media)\n",
    "\n"
   ]
  },
  {
   "cell_type": "code",
   "execution_count": 59,
   "id": "b60710e3-5544-457d-bf87-796c235abd7b",
   "metadata": {},
   "outputs": [
    {
     "name": "stdout",
     "output_type": "stream",
     "text": [
      "Mese 2: 90 € (media prec: 100.0 € - il guadagno attuale è minore)\n",
      "Mese 3: 70 € (media prec: 95.0 € - il guadagno attuale è minore)\n",
      "Mese 4: 40 € (media prec: 86.66666666666667 € - il guadagno attuale è minore)\n",
      "Mese 5: 50 € (media prec: 75.0 € - il guadagno attuale è minore)\n",
      "Mese 6: 80 € (media prec: 70.0 € - il guadagno attuale è maggiore)\n",
      "Mese 7: 90 € (media prec: 71.66666666666667 € - il guadagno attuale è maggiore)\n",
      "Mese 8: 120 € (media prec: 74.28571428571429 € - il guadagno attuale è maggiore)\n",
      "Mese 9: 80 € (media prec: 80.0 € - il guadagno attuale è minore)\n",
      "Mese 10: 20 € (media prec: 80.0 € - il guadagno attuale è minore)\n",
      "Mese 11: 50 € (media prec: 74.0 € - il guadagno attuale è minore)\n",
      "Mese 12: 50 € (media prec: 71.81818181818181 € - il guadagno attuale è minore)\n"
     ]
    }
   ],
   "source": [
    "guadagni = [100, 90, 70, 40, 50, 80, 90, 120, 80, 20, 50, 50]\n",
    "\n",
    "# Calcoliamo i guadagni medi dei mesi precedenti\n",
    "media_prec = guadagni[0]\n",
    "for i in range(1, len(guadagni)):\n",
    "    media_prec = sum(guadagni[:i]) / i\n",
    "    print(f\"Mese {i + 1}: {guadagni[i]} € (media prec: {media_prec} € - {'il guadagno attuale è maggiore' if guadagni[i] > media_prec else 'il guadagno attuale è minore'})\")\n"
   ]
  }
 ],
 "metadata": {
  "kernelspec": {
   "display_name": "Python 3 (ipykernel)",
   "language": "python",
   "name": "python3"
  },
  "language_info": {
   "codemirror_mode": {
    "name": "ipython",
    "version": 3
   },
   "file_extension": ".py",
   "mimetype": "text/x-python",
   "name": "python",
   "nbconvert_exporter": "python",
   "pygments_lexer": "ipython3",
   "version": "3.11.7"
  }
 },
 "nbformat": 4,
 "nbformat_minor": 5
}
